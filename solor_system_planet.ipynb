{
  "nbformat": 4,
  "nbformat_minor": 0,
  "metadata": {
    "colab": {
      "provenance": [],
      "authorship_tag": "ABX9TyM5zKgoMEOoFzI5e972A1B3",
      "include_colab_link": true
    },
    "kernelspec": {
      "name": "python3",
      "display_name": "Python 3"
    },
    "language_info": {
      "name": "python"
    }
  },
  "cells": [
    {
      "cell_type": "markdown",
      "metadata": {
        "id": "view-in-github",
        "colab_type": "text"
      },
      "source": [
        "<a href=\"https://colab.research.google.com/github/LSYeon02/AI_1/blob/main/solor_system_planet.ipynb\" target=\"_parent\"><img src=\"https://colab.research.google.com/assets/colab-badge.svg\" alt=\"Open In Colab\"/></a>"
      ]
    },
    {
      "cell_type": "code",
      "source": [
        "#@title 그래프에서 한글 인식하기: 코드 실행 후 런타임 다시시작하기 -코랩\n",
        "#코드 실행 후 런타임 다시시작하기 -코랩\n",
        "!sudo apt-get install -y fonts-nanum\n",
        "!sudo fc-cache -fv\n",
        "!rm ~/.cache/matplotlib -rf"
      ],
      "metadata": {
        "id": "0plffmgYEhyM"
      },
      "execution_count": null,
      "outputs": []
    },
    {
      "cell_type": "code",
      "source": [
        "#@title 사전 작업 (실행후 ok 나오면 완료)\n",
        "#파일 불러오기\n",
        "import pandas as pd\n",
        "import numpy as np\n",
        "import matplotlib.patches as patches\n",
        "import matplotlib.pyplot as plt\n",
        "import random\n",
        "\n",
        "from google.colab import files\n",
        "#upload = files.upload()   #코랩에서 활성화\n",
        "\n",
        "#파일열기\n",
        "#file = input('파일 이름을 입력하세요.(확장자 포함) --> ') \n",
        "#df=pd.read_csv(file,sep='\\t', encoding='cp949')  # , 등으로 나눠진 파일일 때\n",
        "#df=pd.read_csv(file, encoding='cp949')\n",
        "#print('OK!')\n"
      ],
      "metadata": {
        "id": "_BFsl13IA_kT",
        "colab": {
          "base_uri": "https://localhost:8080/"
        },
        "cellView": "form",
        "outputId": "a23c90c9-f184-4ce3-b906-ff6565408fea"
      },
      "execution_count": null,
      "outputs": [
        {
          "output_type": "stream",
          "name": "stdout",
          "text": [
            "OK!\n"
          ]
        }
      ]
    },
    {
      "cell_type": "code",
      "execution_count": null,
      "metadata": {
        "id": "CR76-Je6_lhk",
        "cellView": "form"
      },
      "outputs": [],
      "source": [
        "#@title (1) 행성의 궤도를 그려봅시다\n",
        "plt.figure(figsize=(20,20))\n",
        "plt.rc('font', family='NanumGothic')\n",
        "plt.title('행성의 궤도')\n",
        "for i in range(8):\n",
        "  name = input('행성이름')\n",
        "  print(i+1, name )\n",
        "  a=float(input('행성 궤도의 장반경은?'))\n",
        "  e=float(input('행성 궤도의 이심률은?'))\n",
        "  b= a*((1-e**2)**(1/2))\n",
        "  c=(a**2-b**2)**0.5\n",
        "  x=np.linspace(-a-10,a+10,3000)\n",
        "  y1=(b**2-(b**2/a**2)*(x-(1-c))**2)**0.5\n",
        "  y2=-(b**2-(b**2/a**2)*(x-(1-c))**2)**0.5\n",
        "  #plt.hlines(0,-a,+a,color='black',linestyle='--')##(y축 위치, x축 시작점, x축 끝점)\n",
        "  #plt.vlines(0,-b,+b,color='black',linestyle='--')##(x축 위치, y축 시작점, y축 끝점)\n",
        "  plt.grid(linestyle='-.')\n",
        "  #plt.scatter(-c,0,c='r')\n",
        "  plt.scatter(1,0,c='r')\n",
        "  #plt.scatter(0,0,c='b')\n",
        "  #plt.text(-c,-2,'('+str(round(-c,1))+', 0)')\n",
        "  #plt.text(c,-2,'('+str(round(c,1))+', 0)')\n",
        "  #plt.text(-1.5,1.5,'e='+str(round(e,2)),size=13)\n",
        "  plt.plot(x,y1,c='k')\n",
        "  plt.plot(x,y2,c='k')\n",
        "  #plt.xlim(-a-1,a+1)\n",
        "  #plt.ylim(-a-1,a+1)\n",
        "  \n",
        "\n",
        "plt.show()"
      ]
    },
    {
      "cell_type": "code",
      "source": [
        "#@title (2) 행성의 주기-장반경 관계 그래프를 그려봅시다\n",
        "plt.figure(figsize=(10,10))\n",
        "plt.rc('font', family='NanumGothic')\n",
        "plt.title('행성의 주기-장반경 관계')\n",
        "for i in range(8):\n",
        "  name = input('행성이름')\n",
        "  p = float(input('행성의 공전 주기는?'))\n",
        "  a = float(input('행성의 공전궤도 긴 반지름(장반경)은?'))\n",
        "  plt.scatter(p**2, a**3)\n",
        "x=np.linspace(-1,30000,300000)\n",
        "y=x\n",
        "plt.plot(x,y,label='y = x')\n",
        "plt.legend()\n",
        "plt.xlabel('주기**2')\n",
        "plt.ylabel('장반경**3')\n",
        "plt.show()"
      ],
      "metadata": {
        "id": "7httP2p9MkLu",
        "cellView": "form"
      },
      "execution_count": null,
      "outputs": []
    }
  ]
}